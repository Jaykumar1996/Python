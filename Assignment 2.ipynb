{
 "cells": [
  {
   "cell_type": "code",
   "execution_count": 2,
   "metadata": {},
   "outputs": [
    {
     "ename": "TypeError",
     "evalue": "'>' not supported between instances of 'int' and 'builtin_function_or_method'",
     "output_type": "error",
     "traceback": [
      "\u001b[1;31m---------------------------------------------------------------------------\u001b[0m",
      "\u001b[1;31mTypeError\u001b[0m                                 Traceback (most recent call last)",
      "\u001b[1;32m<ipython-input-2-b223d71f41f6>\u001b[0m in \u001b[0;36m<module>\u001b[1;34m\u001b[0m\n\u001b[0;32m     32\u001b[0m \u001b[1;32mfor\u001b[0m \u001b[0mi\u001b[0m \u001b[1;32min\u001b[0m \u001b[0mrange\u001b[0m\u001b[1;33m(\u001b[0m\u001b[1;36m3\u001b[0m\u001b[1;33m)\u001b[0m\u001b[1;33m:\u001b[0m\u001b[1;33m\u001b[0m\u001b[1;33m\u001b[0m\u001b[0m\n\u001b[0;32m     33\u001b[0m     \u001b[1;32mfor\u001b[0m \u001b[0me\u001b[0m \u001b[1;32min\u001b[0m \u001b[0ml1\u001b[0m\u001b[1;33m:\u001b[0m\u001b[1;33m\u001b[0m\u001b[1;33m\u001b[0m\u001b[0m\n\u001b[1;32m---> 34\u001b[1;33m         \u001b[1;32mif\u001b[0m \u001b[0me\u001b[0m\u001b[1;33m.\u001b[0m\u001b[0msalary\u001b[0m \u001b[1;33m>\u001b[0m \u001b[0mmax\u001b[0m\u001b[1;33m:\u001b[0m\u001b[1;33m\u001b[0m\u001b[1;33m\u001b[0m\u001b[0m\n\u001b[0m\u001b[0;32m     35\u001b[0m             \u001b[0mmax\u001b[0m \u001b[1;33m=\u001b[0m \u001b[0me\u001b[0m\u001b[1;33m.\u001b[0m\u001b[0msalary\u001b[0m\u001b[1;33m\u001b[0m\u001b[1;33m\u001b[0m\u001b[0m\n\u001b[0;32m     36\u001b[0m             \u001b[0mmax_emp\u001b[0m \u001b[1;33m=\u001b[0m \u001b[0me\u001b[0m\u001b[1;33m\u001b[0m\u001b[1;33m\u001b[0m\u001b[0m\n",
      "\u001b[1;31mTypeError\u001b[0m: '>' not supported between instances of 'int' and 'builtin_function_or_method'"
     ]
    }
   ],
   "source": [
    "import copy\n",
    "class Employee: #same as Employee(object)\n",
    "   'Common base class for all employees'\n",
    "   empCount = 0 #class attribute\n",
    "\n",
    "   #name, salary and _age are instance attributes\n",
    "   def __init__(self, name, salary, age): #initializer must have at least argument beside self\n",
    "      self.name = name\n",
    "      self.salary = salary\n",
    "      self.__age = age\n",
    "      Employee.empCount += 1\n",
    "   \n",
    "   def displayCount(self):\n",
    "       print(\"Total Employee: {0}\".format(Employee.empCount))\n",
    "\n",
    "   def displayEmployee(self):\n",
    "       print(\"Name : {0}, Salary: {1}, Age: {2}\".format(self.name,self.salary, self.__age))\n",
    "        \n",
    "   def work(self):\n",
    "         print(\"{0} is working\".format(self.name))\n",
    "    \n",
    "e1 = Employee(\"Jay\", 2000,23)\n",
    "e2 = Employee(\"Jacob\", 3000, 24)\n",
    "e3 = Employee(\"Prabesh\", 4000,25)\n",
    "e4 = Employee(\"Josh\", 1000,20)\n",
    "e5 = Employee(\"Ash\", 2540,26)   \n",
    "    \n",
    "l1 = [e1,e2,e3,e4,e5]\n",
    "l2=[]\n",
    "\n",
    "\n",
    "for i in range(3):\n",
    "    for e in l1:\n",
    "        if e.salary > max:\n",
    "            max = e.salary\n",
    "            max_emp = e\n",
    "    l2.append(max_emp)\n",
    "\n",
    "for e in l2:\n",
    "    print(e.salary)\n",
    "    \n",
    " \n",
    "\n",
    "class Company:\n",
    "    l1 = []\n",
    "    \n",
    "    def __init__(self, Employeelist):\n",
    "        l1 = copy.deepcopy(Employeelist)\n",
    "        \n",
    "    def displayEmployee(self):\n",
    "        for e in l1:\n",
    "            print(e.name, e.salary)\n",
    "        \n",
    "    def work(self):\n",
    "        for e in l1:\n",
    "            e.work()\n",
    "            \n",
    "c = Company(l1)\n",
    "c.displayEmployee()\n",
    "c.work()\n",
    "    \n",
    "    "
   ]
  },
  {
   "cell_type": "code",
   "execution_count": 26,
   "metadata": {},
   "outputs": [
    {
     "ename": "SyntaxError",
     "evalue": "invalid syntax (<ipython-input-26-86fb47bdac5c>, line 17)",
     "output_type": "error",
     "traceback": [
      "\u001b[1;36m  File \u001b[1;32m\"<ipython-input-26-86fb47bdac5c>\"\u001b[1;36m, line \u001b[1;32m17\u001b[0m\n\u001b[1;33m    def __init__(self, l[]):\u001b[0m\n\u001b[1;37m                        ^\u001b[0m\n\u001b[1;31mSyntaxError\u001b[0m\u001b[1;31m:\u001b[0m invalid syntax\n"
     ]
    }
   ],
   "source": [
    "class employee:\n",
    "    def __init__(self, name,salary,age):\n",
    "        self.name = name\n",
    "        self.salary = salary\n",
    "        self.__age = age\n",
    "        Employee.empCount += 1\n",
    "        \n",
    "    def printsalary(self):\n",
    "        print(self.salary)\n",
    "        \n",
    "    def printname(self):\n",
    "        print(self.name)\n",
    "\n",
    "class company:\n",
    "    employies = []\n",
    "    \n",
    "    def __init__(self, l):\n",
    "        self.employies = l\n",
    "    \n",
    "    def addemployee(self, e1):\n",
    "        self.employies.append(e1)\n",
    "    \n",
    "    def show(self):\n",
    "        for e in self.employies:\n",
    "            print(e.printname())\n",
    "    \n",
    "e1 = employee('Jay', 3000,23)\n",
    "e2 = Employee(\"Jacob\", 3000, 24)\n",
    "e3 = Employee(\"Prabesh\", 4000,25)\n",
    "e4 = Employee(\"Josh\", 1000,20)\n",
    "e5 = Employee(\"Ash\", 2540,26) \n",
    "\n",
    "l = [e1,e2,e3]\n",
    "\n",
    "\n",
    "c = company(l)\n",
    "\n",
    "c.show()\n"
   ]
  },
  {
   "cell_type": "code",
   "execution_count": null,
   "metadata": {},
   "outputs": [],
   "source": []
  }
 ],
 "metadata": {
  "kernelspec": {
   "display_name": "Python 3",
   "language": "python",
   "name": "python3"
  },
  "language_info": {
   "codemirror_mode": {
    "name": "ipython",
    "version": 3
   },
   "file_extension": ".py",
   "mimetype": "text/x-python",
   "name": "python",
   "nbconvert_exporter": "python",
   "pygments_lexer": "ipython3",
   "version": "3.7.1"
  }
 },
 "nbformat": 4,
 "nbformat_minor": 2
}
